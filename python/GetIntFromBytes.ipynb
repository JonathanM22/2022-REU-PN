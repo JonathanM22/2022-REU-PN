{
 "cells": [
  {
   "cell_type": "markdown",
   "id": "2e180e91",
   "metadata": {},
   "source": [
    "# Taking SD File (bytes) -> 3 Int arrays"
   ]
  },
  {
   "cell_type": "code",
   "execution_count": 3,
   "id": "79ddd5ab",
   "metadata": {},
   "outputs": [],
   "source": [
    "\"\"\"\n",
    "data001 -> Idle but orginal sized buffer that made post hard\n",
    "data002 -> New buffer size & 500Hz\n",
    "data003 -> New Buffer & Idle\n",
    "data004 -> New Buffer with 500 & 800Hz\n",
    "data005 -> New Buffer with 500 & 800 & 1100Hz\n",
    "data006 -> New Buffer with 800Hz\n",
    "data007 -> New Buffer with 1100Hz\n",
    "\"\"\"\n",
    "\n",
    "import math\n",
    "\n",
    "file = open(\"BinData/data004.bin\", \"rb\")\n",
    "byte = file.read(1)\n",
    "raw_array = [];\n",
    "while byte:\n",
    "    raw_array.append(byte)\n",
    "    byte = file.read(1)"
   ]
  },
  {
   "cell_type": "code",
   "execution_count": 4,
   "id": "8a10627d",
   "metadata": {},
   "outputs": [],
   "source": [
    "# CREATES DATA ARRAY\n",
    "data_array = []\n",
    "\n",
    "for i in range(0,len(raw_array)-1,2):\n",
    "    a = raw_array[i]\n",
    "    b = raw_array[i+1]\n",
    "    \n",
    "    data_array.append(int.from_bytes(raw_array[i+1]+raw_array[i], 'big', signed=True))"
   ]
  },
  {
   "cell_type": "code",
   "execution_count": 5,
   "id": "ed75819b",
   "metadata": {},
   "outputs": [],
   "source": [
    "# THIS IS THE CODE THAT I USED TO MAKE THE CSV!!!!!!!!!!!!!!!!!!!!!!\n",
    "import csv\n",
    "\n",
    "# open the file in the write mode\n",
    "with open('Short01.csv', 'w', encoding='UTF8', newline='') as f:\n",
    "    # create the csv writer\n",
    "    writer = csv.writer(f)\n",
    "    \n",
    "    header = ['Ax','Ay','Az']\n",
    "    writer.writerow(header)\n",
    "    \n",
    "    for i in range(0,len(data_array)-1,3):\n",
    "        #print(i)\n",
    "        row = [data_array[i],data_array[i+1],data_array[i+2]]\n",
    "        writer.writerow(row)"
   ]
  },
  {
   "cell_type": "code",
   "execution_count": 8,
   "id": "aca3c3ce",
   "metadata": {},
   "outputs": [
    {
     "data": {
      "text/plain": [
       "1632.0"
      ]
     },
     "execution_count": 8,
     "metadata": {},
     "output_type": "execute_result"
    }
   ],
   "source": [
    "len(data_array)/10/3"
   ]
  },
  {
   "cell_type": "markdown",
   "id": "b72368b2",
   "metadata": {},
   "source": [
    "# Taking SD File, But only Z Axis"
   ]
  },
  {
   "cell_type": "code",
   "execution_count": 19,
   "id": "cc3e1aee",
   "metadata": {},
   "outputs": [],
   "source": [
    "\"\"\"\n",
    "testz01 -> Idle, Accel Set to 1.6Khz\n",
    "testz02 -> Idle, Accel Set to 3.330Khz\n",
    "testz03 -> Idle, Accel Set to 6.6Khz\n",
    "testz04 -> Played 1100Hz, Accel Set to 6.6Khz\n",
    "testz05 -> Played 800Hz, Accel Set to 6.6Khz\n",
    "testz08 -> Played 1100Hz, Accel Set to 6.6Khz, Buffer 510, Raw Get Value\n",
    "testz08 -> Idle, Accel Set to 6.6Khz, Buffer 510, Raw Get Value, 19327-8900\n",
    "testz11 -> Played 1100Hz, Accel Set to 6.6Khz, Buffer 510, Raw Get Value, 19078-8901\n",
    "testz12 -> Played 2200Hz, Accel Set to 6.6Khz, Buffer 510, Raw Get Value, 8993-19169\n",
    "\n",
    "\n",
    "Short01 -> Just writing Once with scratch write. Z Axis only. Played 1100Hz\n",
    "Short02 -> Just writing Once with scratch write. Z Axis only. Played 800Hz\n",
    "\n",
    "final01 -> Played 700Hz, Accel Set to 6.6Khz, Raw Get Value, Single Axis ||\n",
    "final02 -> Played 1300Hz, Accel Set to 6.6Khz, Raw Get Value, Single Axis ||\n",
    "final03 -> Played 2200Hz, Accel Set to 6.6Khz, Raw Get Value, Single Axis ||\n",
    "final04 -> Played 700Hz_1300Hz, Accel Set to 6.6Khz, Raw Get Value, Single Axis ||\n",
    "final05 -> Played 700Hz_1300Hz_2200Hz, Accel Set to 6.6Khz, Raw Get Value, Single Axis ||\n",
    "\n",
    "\n",
    "\"\"\"\n",
    "\n",
    "import math\n",
    "\n",
    "file = open(\"BinData/final05.bin\", \"rb\")\n",
    "\n",
    "byte = file.read(1)\n",
    "\n",
    "raw_array = [];\n",
    "\n",
    "while byte:\n",
    "    raw_array.append(byte)\n",
    "    byte = file.read(1)"
   ]
  },
  {
   "cell_type": "code",
   "execution_count": 20,
   "id": "b513c788",
   "metadata": {},
   "outputs": [],
   "source": [
    "# CREATES DATA ARRAY\n",
    "data_array = []\n",
    "\n",
    "for i in range(0,len(raw_array)-1,2):\n",
    "    a = raw_array[i]\n",
    "    b = raw_array[i+1]\n",
    "    \n",
    "    data_array.append(int.from_bytes(raw_array[i+1]+raw_array[i], 'big', signed=True))"
   ]
  },
  {
   "cell_type": "code",
   "execution_count": 21,
   "id": "782fde2b",
   "metadata": {},
   "outputs": [
    {
     "data": {
      "text/plain": [
       "4870.5"
      ]
     },
     "execution_count": 21,
     "metadata": {},
     "output_type": "execute_result"
    }
   ],
   "source": [
    "len(data_array)/10\n",
    "#data_array"
   ]
  },
  {
   "cell_type": "code",
   "execution_count": 22,
   "id": "bc31bfe2",
   "metadata": {},
   "outputs": [],
   "source": [
    "# THIS IS THE CODE THAT I USED TO MAKE THE CSV!!!!!!!!!!!!!!!!!!!!!!\n",
    "import csv\n",
    "\n",
    "# open the file in the write mode\n",
    "with open('final05.csv', 'w', encoding='UTF8', newline='') as f:\n",
    "    # create the csv writer\n",
    "    writer = csv.writer(f)\n",
    "    \n",
    "    header = ['Az']\n",
    "    writer.writerow(header)\n",
    "    \n",
    "    for i in range(0,len(data_array)-1):\n",
    "        row = [data_array[i]]\n",
    "        writer.writerow(row)"
   ]
  },
  {
   "cell_type": "code",
   "execution_count": null,
   "id": "419f1d8a",
   "metadata": {},
   "outputs": [],
   "source": []
  },
  {
   "cell_type": "code",
   "execution_count": null,
   "id": "45a42503",
   "metadata": {},
   "outputs": [],
   "source": []
  }
 ],
 "metadata": {
  "kernelspec": {
   "display_name": "Python 3 (ipykernel)",
   "language": "python",
   "name": "python3"
  },
  "language_info": {
   "codemirror_mode": {
    "name": "ipython",
    "version": 3
   },
   "file_extension": ".py",
   "mimetype": "text/x-python",
   "name": "python",
   "nbconvert_exporter": "python",
   "pygments_lexer": "ipython3",
   "version": "3.9.7"
  }
 },
 "nbformat": 4,
 "nbformat_minor": 5
}
